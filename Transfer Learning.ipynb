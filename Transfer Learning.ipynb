{
 "cells": [
  {
   "cell_type": "code",
   "execution_count": 1,
   "id": "5be09b56",
   "metadata": {},
   "outputs": [],
   "source": [
    "import matplotlib.pyplot as plt\n",
    "import zipfile as zf\n",
    "import numpy as np\n",
    "import os\n",
    "import PIL\n",
    "import tensorflow as tf\n",
    "import random\n",
    "\n",
    "\n",
    "from tensorflow import keras\n",
    "from tensorflow.keras import layers\n",
    "from tensorflow.keras.models import Sequential\n",
    "from tensorflow.keras.preprocessing.image import ImageDataGenerator, load_img, img_to_array, array_to_img\n",
    "from keras.callbacks import ModelCheckpoint,EarlyStopping\n",
    "\n",
    "from keras.layers import Conv2D, Flatten, MaxPooling2D,Dense,Dropout,SpatialDropout2D"
   ]
  },
  {
   "cell_type": "code",
   "execution_count": 2,
   "id": "1451f86e",
   "metadata": {},
   "outputs": [],
   "source": [
    "files = zf.ZipFile(\"dataset.zip\",'r')\n",
    "files.extractall()\n",
    "files.close()"
   ]
  },
  {
   "cell_type": "code",
   "execution_count": 3,
   "id": "0f7aba8e",
   "metadata": {},
   "outputs": [
    {
     "data": {
      "text/plain": [
       "['.DS_Store', 'cardboard', 'glass', 'metal', 'paper', 'plastic', 'trash']"
      ]
     },
     "execution_count": 3,
     "metadata": {},
     "output_type": "execute_result"
    }
   ],
   "source": [
    "os.listdir(os.path.join(os.getcwd(),\"dataset-resized\"))"
   ]
  },
  {
   "cell_type": "code",
   "execution_count": 4,
   "id": "0c7bc29d",
   "metadata": {},
   "outputs": [
    {
     "data": {
      "text/plain": [
       "WindowsPath('C:/Users/lelo/Waste/dataset-resized')"
      ]
     },
     "execution_count": 4,
     "metadata": {},
     "output_type": "execute_result"
    }
   ],
   "source": [
    "import pathlib\n",
    "data_dir= pathlib.Path(os.getcwd())/\"dataset-resized\"\n",
    "data_dir"
   ]
  },
  {
   "cell_type": "code",
   "execution_count": 7,
   "id": "e5abdaae",
   "metadata": {},
   "outputs": [
    {
     "name": "stdout",
     "output_type": "stream",
     "text": [
      "pls wait until the all augmentation operations are done\n",
      "current category under processing: dataset-resized\\cardboard\n",
      "current category under processing: dataset-resized\\glass\n",
      "current category under processing: dataset-resized\\metal\n",
      "current category under processing: dataset-resized\\paper\n",
      "current category under processing: dataset-resized\\plastic\n",
      "current category under processing: dataset-resized\\trash\n",
      "Done!!!!\n"
     ]
    }
   ],
   "source": [
    "import glob\n",
    "import cv2\n",
    "import random\n",
    "import numpy as np\n",
    "\n",
    "\n",
    "def rotation(img, angle):\n",
    "    angle = int(random.uniform(-angle, angle))\n",
    "    h, w = img.shape[:2]\n",
    "    M = cv2.getRotationMatrix2D((int(w/2), int(h/2)), angle, 1)\n",
    "    img = cv2.warpAffine(img, M, (w, h))\n",
    "    return img\n",
    "def brightness(img, low, high):\n",
    "    value = random.uniform(low, high)\n",
    "    hsv = cv2.cvtColor(img, cv2.COLOR_BGR2HSV)\n",
    "    hsv = np.array(hsv, dtype = np.float64)\n",
    "    hsv[:,:,1] = hsv[:,:,1]*value\n",
    "    hsv[:,:,1][hsv[:,:,1]>255]  = 255\n",
    "    hsv[:,:,2] = hsv[:,:,2]*value \n",
    "    hsv[:,:,2][hsv[:,:,2]>255]  = 255\n",
    "    hsv = np.array(hsv, dtype = np.uint8)\n",
    "    img = cv2.cvtColor(hsv, cv2.COLOR_HSV2BGR)\n",
    "    return img\n",
    "\n",
    "def vertical_flip(img, flag):\n",
    "    if flag:\n",
    "        return cv2.flip(img,0)\n",
    "    else:\n",
    "        return img\n",
    "def horizontal_flip(img, flag):\n",
    "    if flag:\n",
    "        return cv2.flip(img,1)\n",
    "    else:\n",
    "        return img\n",
    "def channel_shift(img, value):\n",
    "    value = int(random.uniform(-value, value))\n",
    "    img = img + value\n",
    "    img[:,:,:][img[:,:,:]>255]  = 255\n",
    "    img[:,:,:][img[:,:,:]<0]  = 0\n",
    "    img = img.astype(np.uint8)\n",
    "    return img\n",
    "\n",
    "def fill(img, h, w):\n",
    "    img = cv2.resize(img, (h, w), cv2.INTER_CUBIC)\n",
    "    return img\n",
    "        \n",
    "def horizontal_shift(img, ratio=0.0):\n",
    "    if ratio > 1 or ratio < 0:\n",
    "        print('Value should be less than 1 and greater than 0')\n",
    "        return img\n",
    "    ratio = random.uniform(-ratio, ratio)\n",
    "    w, h = img.shape[:2]\n",
    "    to_shift = w*ratio\n",
    "    if ratio > 0:\n",
    "        img = img[:, :int(w-to_shift), :]\n",
    "    if ratio < 0:\n",
    "        img = img[:, int(-1*to_shift):, :]\n",
    "    img = fill(img, h, w)\n",
    "    return img\n",
    "\n",
    "def vertical_shift(img, ratio=0.0):\n",
    "    if ratio > 1 or ratio < 0:\n",
    "        print('Value should be less than 1 and greater than 0')\n",
    "        return img\n",
    "    ratio = random.uniform(-ratio, ratio)\n",
    "    w, h = img.shape[:2]\n",
    "    to_shift = h*ratio\n",
    "    if ratio > 0:\n",
    "        img = img[:int(h-to_shift), :, :]\n",
    "    if ratio < 0:\n",
    "        img = img[int(-1*to_shift):, :, :]\n",
    "    img = fill(img, h, w)\n",
    "    return img\n",
    "\n",
    "\n",
    "if __name__ == '__main__':\n",
    "\t'''\n",
    "\tfor every image in each category we perform augment operations in the order\n",
    "\t1. Rotation\n",
    "\t2. Brightness\n",
    "\t3. Vertical Flip\n",
    "\t4. Horizontal Flip\n",
    "\t5. Channel Shift\n",
    "\t6. Horizontal Shift\n",
    "\t7. Vertical SHift\n",
    "\t'''\n",
    "\tcategories = glob.glob('dataset-resized/*')\n",
    "\tprint('pls wait until the all augmentation operations are done')\n",
    "\n",
    "\tfor category in categories:\n",
    "\t\ti=1\n",
    "\t\tsave_file = category.split('/')[-1]\n",
    "\t\tprint('current category under processing:',save_file)\n",
    "\t\timage_paths = glob.glob(category+'/*')\n",
    "\t\tfor image_path in image_paths:\n",
    "\t\t\t#print(image_path)\n",
    "\t\t\timg = cv2.imread(image_path)\n",
    "\t\t\tcv2.imwrite(save_file+'_'+str(i)+'.jpg',img)\n",
    "\t\t\tfor operation in range(1,8):\n",
    "\t\t\t\timg_rotation = rotation(img,180)\n",
    "\t\t\t\tcv2.imwrite(save_file+'_'+str(i+1)+'.jpg',img_rotation)\n",
    "\n",
    "\t\t\t\timg_vertical_flip = vertical_flip(img,1)\n",
    "\t\t\t\tcv2.imwrite(save_file+'_'+str(i+2)+'.jpg',img_vertical_flip)\n",
    "\n",
    "\t\t\t\timg_horizontal_flip = horizontal_flip(img,1)\n",
    "\t\t\t\tcv2.imwrite(save_file+'_'+str(i+3)+'.jpg',img_horizontal_flip)\n",
    "\n",
    "\t\t\t\timg_channel_shift = channel_shift(img,100)\n",
    "\t\t\t\tcv2.imwrite(save_file+'_'+str(i+4)+'.jpg',img_channel_shift)\n",
    "\n",
    "\t\t\t\timg_horizontal_shift = horizontal_shift(img,0.5)\n",
    "\t\t\t\tcv2.imwrite(save_file+'_'+str(i+5)+'.jpg',img_horizontal_shift)\n",
    "\n",
    "\t\t\t\timg_vertical_shift = vertical_shift(img,0.4)\n",
    "\t\t\t\tcv2.imwrite(save_file+'_'+str(i+6)+'.jpg',img_vertical_shift)\n",
    "\n",
    "\t\t\ti+=7\n",
    "\tprint('Done!!!!')"
   ]
  },
  {
   "cell_type": "code",
   "execution_count": 46,
   "id": "e4380ee6",
   "metadata": {},
   "outputs": [
    {
     "name": "stdout",
     "output_type": "stream",
     "text": [
      "20218\n"
     ]
    }
   ],
   "source": [
    "image_count = len(list(data_dir.glob('*/*.jpg')))\n",
    "print(image_count)"
   ]
  },
  {
   "cell_type": "code",
   "execution_count": 6,
   "id": "179cf656",
   "metadata": {},
   "outputs": [],
   "source": [
    "\n",
    "import tensorflow_hub as hub"
   ]
  },
  {
   "cell_type": "code",
   "execution_count": 7,
   "id": "85e29ddc",
   "metadata": {},
   "outputs": [
    {
     "data": {
      "text/plain": [
       "WindowsPath('C:/Users/lelo/Waste/dataset-resized')"
      ]
     },
     "execution_count": 7,
     "metadata": {},
     "output_type": "execute_result"
    }
   ],
   "source": [
    "import pathlib\n",
    "data_dir= pathlib.Path(os.getcwd())/\"dataset-resized\"\n",
    "data_dir"
   ]
  },
  {
   "cell_type": "code",
   "execution_count": 8,
   "id": "07d04699",
   "metadata": {},
   "outputs": [
    {
     "name": "stdout",
     "output_type": "stream",
     "text": [
      "Found 20218 files belonging to 6 classes.\n",
      "Using 16175 files for training.\n",
      "Found 20218 files belonging to 6 classes.\n",
      "Using 4043 files for validation.\n"
     ]
    }
   ],
   "source": [
    "batch_size = 32\n",
    "img_height = 224\n",
    "img_width = 224\n",
    "\n",
    "\n",
    "train_ds = tf.keras.preprocessing.image_dataset_from_directory(\n",
    "  data_dir,\n",
    "  validation_split=0.2,\n",
    "  subset=\"training\",\n",
    "  seed=123,\n",
    "  image_size=(img_height, img_width),\n",
    "  batch_size=batch_size)\n",
    "\n",
    "val_ds = tf.keras.preprocessing.image_dataset_from_directory(\n",
    "  data_dir,\n",
    "  validation_split=0.2,\n",
    "  subset=\"validation\",\n",
    "  seed=123,\n",
    "  image_size=(img_height, img_width),\n",
    "  batch_size=batch_size\n",
    ")"
   ]
  },
  {
   "cell_type": "code",
   "execution_count": 9,
   "id": "86f7d5f0",
   "metadata": {},
   "outputs": [
    {
     "name": "stdout",
     "output_type": "stream",
     "text": [
      "class names for predictions : ['cardboard' 'glass' 'metal' 'paper' 'plastic' 'trash']\n"
     ]
    }
   ],
   "source": [
    "class_names = np.array(train_ds.class_names)\n",
    "print('class names for predictions :',class_names)"
   ]
  },
  {
   "cell_type": "code",
   "execution_count": 10,
   "id": "e199fd28",
   "metadata": {},
   "outputs": [],
   "source": [
    "normalization_layer = tf.keras.layers.experimental.preprocessing.Rescaling(1./255)\n",
    "train_ds = train_ds.map(lambda x, y: (normalization_layer(x), y))\n",
    "val_ds = val_ds.map(lambda x, y: (normalization_layer(x), y)) # Where x—images, y—labels."
   ]
  },
  {
   "cell_type": "code",
   "execution_count": 11,
   "id": "80a28d27",
   "metadata": {},
   "outputs": [],
   "source": [
    "AUTOTUNE = tf.data.AUTOTUNE\n",
    "train_ds = train_ds.cache().prefetch(buffer_size=AUTOTUNE)\n",
    "val_ds = val_ds.cache().prefetch(buffer_size=AUTOTUNE)"
   ]
  },
  {
   "cell_type": "code",
   "execution_count": 12,
   "id": "2baea945",
   "metadata": {},
   "outputs": [
    {
     "name": "stdout",
     "output_type": "stream",
     "text": [
      "(32, 224, 224, 3)\n",
      "(32,)\n"
     ]
    }
   ],
   "source": [
    "for image_batch, labels_batch in train_ds:\n",
    "  print(image_batch.shape)\n",
    "  print(labels_batch.shape)\n",
    "  break"
   ]
  },
  {
   "cell_type": "markdown",
   "id": "c0b2cd2e",
   "metadata": {},
   "source": [
    "# MobileNet_v2"
   ]
  },
  {
   "cell_type": "code",
   "execution_count": 13,
   "id": "bc98924f",
   "metadata": {},
   "outputs": [],
   "source": [
    "mobilenet_v2 =\"https://tfhub.dev/google/tf2-preview/mobilenet_v2/classification/4\"\n",
    "feature_extractor_model = mobilenet_v2"
   ]
  },
  {
   "cell_type": "code",
   "execution_count": 14,
   "id": "fa4f7189",
   "metadata": {},
   "outputs": [],
   "source": [
    "feature_extractor_layer = hub.KerasLayer(\n",
    "    feature_extractor_model,\n",
    "    input_shape=(224, 224, 3),\n",
    "    trainable=False)"
   ]
  },
  {
   "cell_type": "code",
   "execution_count": 15,
   "id": "09e08a2b",
   "metadata": {},
   "outputs": [
    {
     "name": "stdout",
     "output_type": "stream",
     "text": [
      "(32, 1001)\n"
     ]
    }
   ],
   "source": [
    "feature_batch = feature_extractor_layer(image_batch)\n",
    "print(feature_batch.shape)"
   ]
  },
  {
   "cell_type": "code",
   "execution_count": 16,
   "id": "189f7199",
   "metadata": {},
   "outputs": [
    {
     "name": "stdout",
     "output_type": "stream",
     "text": [
      "Model: \"sequential\"\n",
      "_________________________________________________________________\n",
      "Layer (type)                 Output Shape              Param #   \n",
      "=================================================================\n",
      "keras_layer (KerasLayer)     (None, 1001)              3540265   \n",
      "_________________________________________________________________\n",
      "dense (Dense)                (None, 6)                 6012      \n",
      "=================================================================\n",
      "Total params: 3,546,277\n",
      "Trainable params: 6,012\n",
      "Non-trainable params: 3,540,265\n",
      "_________________________________________________________________\n"
     ]
    }
   ],
   "source": [
    "num_classes = len(class_names)\n",
    "\n",
    "model = tf.keras.Sequential([\n",
    "  feature_extractor_layer,\n",
    "  tf.keras.layers.Dense(num_classes)\n",
    "])\n",
    "\n",
    "model.summary()"
   ]
  },
  {
   "cell_type": "code",
   "execution_count": 17,
   "id": "6879a349",
   "metadata": {},
   "outputs": [],
   "source": [
    "import datetime\n",
    "model.compile(\n",
    "  optimizer=tf.keras.optimizers.Adam(),\n",
    "  loss=tf.keras.losses.SparseCategoricalCrossentropy(from_logits=True),\n",
    "  metrics=['acc'])\n",
    "\n",
    "log_dir = \"logs/fit/\" + datetime.datetime.now().strftime(\"%Y%m%d-%H%M%S\")\n",
    "tensorboard_callback = tf.keras.callbacks.TensorBoard(\n",
    "    log_dir=log_dir,\n",
    "    histogram_freq=1) # Enable histogram computation for every epoch."
   ]
  },
  {
   "cell_type": "code",
   "execution_count": 18,
   "id": "817c1ea7",
   "metadata": {},
   "outputs": [
    {
     "name": "stdout",
     "output_type": "stream",
     "text": [
      "Epoch 1/10\n",
      "506/506 [==============================] - 219s 423ms/step - loss: 0.5871 - acc: 0.7928 - val_loss: 0.4151 - val_acc: 0.8548\n",
      "Epoch 2/10\n",
      "506/506 [==============================] - 162s 320ms/step - loss: 0.3651 - acc: 0.8720 - val_loss: 0.3626 - val_acc: 0.8674\n",
      "Epoch 3/10\n",
      "506/506 [==============================] - 164s 324ms/step - loss: 0.3183 - acc: 0.8886 - val_loss: 0.3387 - val_acc: 0.8778\n",
      "Epoch 4/10\n",
      "506/506 [==============================] - 150s 296ms/step - loss: 0.2909 - acc: 0.8976 - val_loss: 0.3241 - val_acc: 0.8845\n",
      "Epoch 5/10\n",
      "506/506 [==============================] - 142s 282ms/step - loss: 0.2716 - acc: 0.9041 - val_loss: 0.3138 - val_acc: 0.8897\n",
      "Epoch 6/10\n",
      "506/506 [==============================] - 142s 280ms/step - loss: 0.2567 - acc: 0.9107 - val_loss: 0.3063 - val_acc: 0.8944\n",
      "Epoch 7/10\n",
      "506/506 [==============================] - 142s 281ms/step - loss: 0.2446 - acc: 0.9144 - val_loss: 0.3007 - val_acc: 0.8959\n",
      "Epoch 8/10\n",
      "506/506 [==============================] - 141s 278ms/step - loss: 0.2345 - acc: 0.9183 - val_loss: 0.2963 - val_acc: 0.8993\n",
      "Epoch 9/10\n",
      "506/506 [==============================] - 141s 278ms/step - loss: 0.2258 - acc: 0.9221 - val_loss: 0.2930 - val_acc: 0.9016\n",
      "Epoch 10/10\n",
      "506/506 [==============================] - 141s 278ms/step - loss: 0.2182 - acc: 0.9249 - val_loss: 0.2903 - val_acc: 0.9028\n"
     ]
    }
   ],
   "source": [
    "NUM_EPOCHS = 10\n",
    "\n",
    "history = model.fit(train_ds,\n",
    "                    validation_data=val_ds,\n",
    "                    epochs=NUM_EPOCHS,\n",
    "                    callbacks=tensorboard_callback)"
   ]
  },
  {
   "cell_type": "code",
   "execution_count": 19,
   "id": "b1e42ece",
   "metadata": {},
   "outputs": [
    {
     "data": {
      "text/plain": [
       "Text(0.5, 0, 'epoch')"
      ]
     },
     "execution_count": 19,
     "metadata": {},
     "output_type": "execute_result"
    },
    {
     "data": {
      "image/png": "[encoded data removed]",
      "text/plain": [
       "<Figure size 576x576 with 2 Axes>"
      ]
     },
     "metadata": {
      "needs_background": "light"
     },
     "output_type": "display_data"
    }
   ],
   "source": [
    "acc = history.history['acc']\n",
    "val_acc = history.history['val_acc']\n",
    "\n",
    "loss = history.history['loss']\n",
    "val_loss = history.history['val_loss']\n",
    "\n",
    "plt.figure(figsize=(8, 8))\n",
    "plt.subplot(2, 1, 1)\n",
    "plt.plot(acc, label='Training Accuracy')\n",
    "plt.plot(val_acc, label='Validation Accuracy')\n",
    "plt.legend(loc='lower right')\n",
    "plt.ylabel('Accuracy')\n",
    "plt.ylim([min(plt.ylim()),1])\n",
    "plt.title('Training and Validation Accuracy')\n",
    "\n",
    "plt.subplot(2, 1, 2)\n",
    "plt.plot(loss, label='Training Loss')\n",
    "plt.plot(val_loss, label='Validation Loss')\n",
    "plt.legend(loc='upper right')\n",
    "plt.ylabel('Cross Entropy')\n",
    "plt.ylim([0,1.0])\n",
    "plt.title('Training and Validation Loss')\n",
    "plt.xlabel('epoch')"
   ]
  },
  {
   "cell_type": "markdown",
   "id": "a4141de0",
   "metadata": {},
   "source": [
    "# Efficientnetv2\n",
    "## imagenet1k_b0"
   ]
  },
  {
   "cell_type": "code",
   "execution_count": 20,
   "id": "65aa3aeb",
   "metadata": {},
   "outputs": [],
   "source": [
    "efficientnetv2=\"https://tfhub.dev/google/imagenet/efficientnet_v2_imagenet1k_b0/feature_vector/2\"\n",
    "feature_extractor_model = efficientnetv2"
   ]
  },
  {
   "cell_type": "code",
   "execution_count": 21,
   "id": "fda731d2",
   "metadata": {},
   "outputs": [],
   "source": [
    "feature_extractor_layer = hub.KerasLayer(\n",
    "    feature_extractor_model,\n",
    "    input_shape=(224, 224, 3),\n",
    "    trainable=False)"
   ]
  },
  {
   "cell_type": "code",
   "execution_count": 22,
   "id": "0ba7c184",
   "metadata": {},
   "outputs": [
    {
     "name": "stdout",
     "output_type": "stream",
     "text": [
      "(32, 1280)\n"
     ]
    }
   ],
   "source": [
    "feature_batch = feature_extractor_layer(image_batch)\n",
    "print(feature_batch.shape)"
   ]
  },
  {
   "cell_type": "code",
   "execution_count": 23,
   "id": "296da002",
   "metadata": {},
   "outputs": [
    {
     "name": "stdout",
     "output_type": "stream",
     "text": [
      "Model: \"sequential_1\"\n",
      "_________________________________________________________________\n",
      "Layer (type)                 Output Shape              Param #   \n",
      "=================================================================\n",
      "keras_layer_1 (KerasLayer)   (None, 1280)              5919312   \n",
      "_________________________________________________________________\n",
      "dense_1 (Dense)              (None, 6)                 7686      \n",
      "=================================================================\n",
      "Total params: 5,926,998\n",
      "Trainable params: 7,686\n",
      "Non-trainable params: 5,919,312\n",
      "_________________________________________________________________\n"
     ]
    }
   ],
   "source": [
    "num_classes = len(class_names)\n",
    "\n",
    "model = tf.keras.Sequential([\n",
    "  feature_extractor_layer,\n",
    "  tf.keras.layers.Dense(num_classes)\n",
    "])\n",
    "\n",
    "model.summary()"
   ]
  },
  {
   "cell_type": "code",
   "execution_count": 24,
   "id": "31dc7783",
   "metadata": {},
   "outputs": [],
   "source": [
    "import datetime\n",
    "model.compile(\n",
    "  optimizer=tf.keras.optimizers.Adam(),\n",
    "  loss=tf.keras.losses.SparseCategoricalCrossentropy(from_logits=True),\n",
    "  metrics=['acc'])\n",
    "\n",
    "log_dir = \"logs/fit/\" + datetime.datetime.now().strftime(\"%Y%m%d-%H%M%S\")\n",
    "tensorboard_callback = tf.keras.callbacks.TensorBoard(\n",
    "    log_dir=log_dir,\n",
    "    histogram_freq=1) # Enable histogram computation for every epoch."
   ]
  },
  {
   "cell_type": "code",
   "execution_count": 25,
   "id": "03f6b2ec",
   "metadata": {},
   "outputs": [
    {
     "name": "stdout",
     "output_type": "stream",
     "text": [
      "Epoch 1/10\n",
      "506/506 [==============================] - 308s 589ms/step - loss: 0.6415 - acc: 0.7767 - val_loss: 0.4828 - val_acc: 0.8269\n",
      "Epoch 2/10\n",
      "506/506 [==============================] - 263s 520ms/step - loss: 0.4005 - acc: 0.8674 - val_loss: 0.3882 - val_acc: 0.8689\n",
      "Epoch 3/10\n",
      "506/506 [==============================] - 262s 517ms/step - loss: 0.3256 - acc: 0.8947 - val_loss: 0.3366 - val_acc: 0.8897\n",
      "Epoch 4/10\n",
      "506/506 [==============================] - 262s 517ms/step - loss: 0.2793 - acc: 0.9118 - val_loss: 0.3021 - val_acc: 0.9040\n",
      "Epoch 5/10\n",
      "506/506 [==============================] - 262s 518ms/step - loss: 0.2465 - acc: 0.9235 - val_loss: 0.2769 - val_acc: 0.9087\n",
      "Epoch 6/10\n",
      "506/506 [==============================] - 262s 518ms/step - loss: 0.2216 - acc: 0.9330 - val_loss: 0.2576 - val_acc: 0.9164\n",
      "Epoch 7/10\n",
      "506/506 [==============================] - 262s 517ms/step - loss: 0.2019 - acc: 0.9411 - val_loss: 0.2422 - val_acc: 0.9231\n",
      "Epoch 8/10\n",
      "506/506 [==============================] - 262s 518ms/step - loss: 0.1858 - acc: 0.9463 - val_loss: 0.2296 - val_acc: 0.9273\n",
      "Epoch 9/10\n",
      "506/506 [==============================] - 262s 518ms/step - loss: 0.1722 - acc: 0.9510 - val_loss: 0.2193 - val_acc: 0.9307\n",
      "Epoch 10/10\n",
      "506/506 [==============================] - 262s 518ms/step - loss: 0.1606 - acc: 0.9553 - val_loss: 0.2105 - val_acc: 0.9345\n"
     ]
    }
   ],
   "source": [
    "NUM_EPOCHS = 10\n",
    "\n",
    "history = model.fit(train_ds,\n",
    "                    validation_data=val_ds,\n",
    "                    epochs=NUM_EPOCHS,\n",
    "                    callbacks=tensorboard_callback)"
   ]
  },
  {
   "cell_type": "code",
   "execution_count": 26,
   "id": "3758ff23",
   "metadata": {},
   "outputs": [
    {
     "data": {
      "text/plain": [
       "Text(0.5, 0, 'epoch')"
      ]
     },
     "execution_count": 26,
     "metadata": {},
     "output_type": "execute_result"
    },
    {
     "data": {
      "image/png": "[encoded data removed]",
      "text/plain": [
       "<Figure size 576x576 with 2 Axes>"
      ]
     },
     "metadata": {
      "needs_background": "light"
     },
     "output_type": "display_data"
    }
   ],
   "source": [
    "acc = history.history['acc']\n",
    "val_acc = history.history['val_acc']\n",
    "\n",
    "loss = history.history['loss']\n",
    "val_loss = history.history['val_loss']\n",
    "\n",
    "plt.figure(figsize=(8, 8))\n",
    "plt.subplot(2, 1, 1)\n",
    "plt.plot(acc, label='Training Accuracy')\n",
    "plt.plot(val_acc, label='Validation Accuracy')\n",
    "plt.legend(loc='lower right')\n",
    "plt.ylabel('Accuracy')\n",
    "plt.ylim([min(plt.ylim()),1])\n",
    "plt.title('Training and Validation Accuracy')\n",
    "\n",
    "plt.subplot(2, 1, 2)\n",
    "plt.plot(loss, label='Training Loss')\n",
    "plt.plot(val_loss, label='Validation Loss')\n",
    "plt.legend(loc='upper right')\n",
    "plt.ylabel('Cross Entropy')\n",
    "plt.ylim([0,1.0])\n",
    "plt.title('Training and Validation Loss')\n",
    "plt.xlabel('epoch')"
   ]
  },
  {
   "cell_type": "markdown",
   "id": "4631ea54",
   "metadata": {},
   "source": [
    "# Resnet_50"
   ]
  },
  {
   "cell_type": "code",
   "execution_count": 27,
   "id": "8806f2e2",
   "metadata": {},
   "outputs": [],
   "source": [
    "resnet50=\"https://tfhub.dev/tensorflow/resnet_50/classification/1\"\n",
    "feature_extractor_model = resnet50"
   ]
  },
  {
   "cell_type": "code",
   "execution_count": 28,
   "id": "60192186",
   "metadata": {},
   "outputs": [],
   "source": [
    "feature_extractor_layer = hub.KerasLayer(\n",
    "    feature_extractor_model,\n",
    "    input_shape=(224, 224, 3),\n",
    "    trainable=False)"
   ]
  },
  {
   "cell_type": "code",
   "execution_count": 29,
   "id": "cc2a287e",
   "metadata": {},
   "outputs": [
    {
     "name": "stdout",
     "output_type": "stream",
     "text": [
      "(32, 1001)\n"
     ]
    }
   ],
   "source": [
    "feature_batch = feature_extractor_layer(image_batch)\n",
    "print(feature_batch.shape)"
   ]
  },
  {
   "cell_type": "code",
   "execution_count": 30,
   "id": "0dc71ad8",
   "metadata": {},
   "outputs": [
    {
     "name": "stdout",
     "output_type": "stream",
     "text": [
      "Model: \"sequential_2\"\n",
      "_________________________________________________________________\n",
      "Layer (type)                 Output Shape              Param #   \n",
      "=================================================================\n",
      "keras_layer_2 (KerasLayer)   (None, 1001)              25612201  \n",
      "_________________________________________________________________\n",
      "dense_2 (Dense)              (None, 6)                 6012      \n",
      "=================================================================\n",
      "Total params: 25,618,213\n",
      "Trainable params: 6,012\n",
      "Non-trainable params: 25,612,201\n",
      "_________________________________________________________________\n"
     ]
    }
   ],
   "source": [
    "num_classes = len(class_names)\n",
    "\n",
    "model = tf.keras.Sequential([\n",
    "  feature_extractor_layer,\n",
    "  tf.keras.layers.Dense(num_classes)\n",
    "])\n",
    "\n",
    "model.summary()"
   ]
  },
  {
   "cell_type": "code",
   "execution_count": 31,
   "id": "ff03b7d6",
   "metadata": {},
   "outputs": [],
   "source": [
    "import datetime\n",
    "model.compile(\n",
    "  optimizer=tf.keras.optimizers.Adam(),\n",
    "  loss=tf.keras.losses.SparseCategoricalCrossentropy(from_logits=True),\n",
    "  metrics=['acc'])\n",
    "\n",
    "log_dir = \"logs/fit/\" + datetime.datetime.now().strftime(\"%Y%m%d-%H%M%S\")\n",
    "tensorboard_callback = tf.keras.callbacks.TensorBoard(\n",
    "    log_dir=log_dir,\n",
    "    histogram_freq=1) # Enable histogram computation for every epoch."
   ]
  },
  {
   "cell_type": "code",
   "execution_count": 32,
   "id": "c0f996d2",
   "metadata": {},
   "outputs": [
    {
     "name": "stdout",
     "output_type": "stream",
     "text": [
      "Epoch 1/10\n",
      "506/506 [==============================] - 995s 2s/step - loss: 1.6441 - acc: 0.5306 - val_loss: 1.5232 - val_acc: 0.5825\n",
      "Epoch 2/10\n",
      "506/506 [==============================] - 904s 2s/step - loss: 1.4249 - acc: 0.6234 - val_loss: 1.3477 - val_acc: 0.6478\n",
      "Epoch 3/10\n",
      "506/506 [==============================] - 900s 2s/step - loss: 1.2735 - acc: 0.6752 - val_loss: 1.2208 - val_acc: 0.6812\n",
      "Epoch 4/10\n",
      "506/506 [==============================] - 895s 2s/step - loss: 1.1623 - acc: 0.6989 - val_loss: 1.1257 - val_acc: 0.6992\n",
      "Epoch 5/10\n",
      "506/506 [==============================] - 895s 2s/step - loss: 1.0779 - acc: 0.7118 - val_loss: 1.0524 - val_acc: 0.7111\n",
      "Epoch 6/10\n",
      "506/506 [==============================] - 895s 2s/step - loss: 1.0120 - acc: 0.7214 - val_loss: 0.9943 - val_acc: 0.7168\n",
      "Epoch 7/10\n",
      "506/506 [==============================] - 894s 2s/step - loss: 0.9592 - acc: 0.7267 - val_loss: 0.9474 - val_acc: 0.7217\n",
      "Epoch 8/10\n",
      "506/506 [==============================] - 897s 2s/step - loss: 0.9161 - acc: 0.7324 - val_loss: 0.9087 - val_acc: 0.7247\n",
      "Epoch 9/10\n",
      "506/506 [==============================] - 896s 2s/step - loss: 0.8801 - acc: 0.7369 - val_loss: 0.8764 - val_acc: 0.7287\n",
      "Epoch 10/10\n",
      "506/506 [==============================] - 895s 2s/step - loss: 0.8498 - acc: 0.7418 - val_loss: 0.8491 - val_acc: 0.7321\n"
     ]
    }
   ],
   "source": [
    "NUM_EPOCHS = 10\n",
    "\n",
    "history = model.fit(train_ds,\n",
    "                    validation_data=val_ds,\n",
    "                    epochs=NUM_EPOCHS,\n",
    "                    callbacks=tensorboard_callback)"
   ]
  },
  {
   "cell_type": "code",
   "execution_count": 33,
   "id": "4d4b1fe2",
   "metadata": {},
   "outputs": [
    {
     "data": {
      "text/plain": [
       "Text(0.5, 0, 'epoch')"
      ]
     },
     "execution_count": 33,
     "metadata": {},
     "output_type": "execute_result"
    },
    {
     "data": {
      "image/png": "[encoded data removed]",
      "text/plain": [
       "<Figure size 576x576 with 2 Axes>"
      ]
     },
     "metadata": {
      "needs_background": "light"
     },
     "output_type": "display_data"
    }
   ],
   "source": [
    "acc = history.history['acc']\n",
    "val_acc = history.history['val_acc']\n",
    "\n",
    "loss = history.history['loss']\n",
    "val_loss = history.history['val_loss']\n",
    "\n",
    "plt.figure(figsize=(8, 8))\n",
    "plt.subplot(2, 1, 1)\n",
    "plt.plot(acc, label='Training Accuracy')\n",
    "plt.plot(val_acc, label='Validation Accuracy')\n",
    "plt.legend(loc='lower right')\n",
    "plt.ylabel('Accuracy')\n",
    "plt.ylim([min(plt.ylim()),1])\n",
    "plt.title('Training and Validation Accuracy')\n",
    "\n",
    "plt.subplot(2, 1, 2)\n",
    "plt.plot(loss, label='Training Loss')\n",
    "plt.plot(val_loss, label='Validation Loss')\n",
    "plt.legend(loc='upper right')\n",
    "plt.ylabel('Cross Entropy')\n",
    "plt.ylim([0,1.0])\n",
    "plt.title('Training and Validation Loss')\n",
    "plt.xlabel('epoch')"
   ]
  },
  {
   "cell_type": "markdown",
   "id": "07ffa446",
   "metadata": {},
   "source": [
    "# Inception_v3"
   ]
  },
  {
   "cell_type": "code",
   "execution_count": 34,
   "id": "77fcbff5",
   "metadata": {},
   "outputs": [
    {
     "name": "stdout",
     "output_type": "stream",
     "text": [
      "Found 20218 files belonging to 6 classes.\n",
      "Using 16175 files for training.\n",
      "Found 20218 files belonging to 6 classes.\n",
      "Using 4043 files for validation.\n"
     ]
    }
   ],
   "source": [
    "batch_size = 32\n",
    "img_height = 229\n",
    "img_width = 229\n",
    "\n",
    "\n",
    "train_ds = tf.keras.preprocessing.image_dataset_from_directory(\n",
    "  data_dir,\n",
    "  validation_split=0.2,\n",
    "  subset=\"training\",\n",
    "  seed=123,\n",
    "  image_size=(img_height, img_width),\n",
    "  batch_size=batch_size)\n",
    "\n",
    "val_ds = tf.keras.preprocessing.image_dataset_from_directory(\n",
    "  data_dir,\n",
    "  validation_split=0.2,\n",
    "  subset=\"validation\",\n",
    "  seed=123,\n",
    "  image_size=(img_height, img_width),\n",
    "  batch_size=batch_size\n",
    ")"
   ]
  },
  {
   "cell_type": "code",
   "execution_count": 35,
   "id": "f1bba2f1",
   "metadata": {},
   "outputs": [
    {
     "name": "stdout",
     "output_type": "stream",
     "text": [
      "class names for predictions : ['cardboard' 'glass' 'metal' 'paper' 'plastic' 'trash']\n"
     ]
    }
   ],
   "source": [
    "class_names = np.array(train_ds.class_names)\n",
    "print('class names for predictions :',class_names)"
   ]
  },
  {
   "cell_type": "code",
   "execution_count": 36,
   "id": "15f585fc",
   "metadata": {},
   "outputs": [],
   "source": [
    "normalization_layer = tf.keras.layers.experimental.preprocessing.Rescaling(1./255)\n",
    "train_ds = train_ds.map(lambda x, y: (normalization_layer(x), y))\n",
    "val_ds = val_ds.map(lambda x, y: (normalization_layer(x), y)) # Where x—images, y—labels."
   ]
  },
  {
   "cell_type": "code",
   "execution_count": 37,
   "id": "a16cb338",
   "metadata": {},
   "outputs": [],
   "source": [
    "AUTOTUNE = tf.data.AUTOTUNE\n",
    "train_ds = train_ds.cache().prefetch(buffer_size=AUTOTUNE)\n",
    "val_ds = val_ds.cache().prefetch(buffer_size=AUTOTUNE)"
   ]
  },
  {
   "cell_type": "code",
   "execution_count": 38,
   "id": "d8fcfd51",
   "metadata": {},
   "outputs": [
    {
     "name": "stdout",
     "output_type": "stream",
     "text": [
      "(32, 229, 229, 3)\n",
      "(32,)\n"
     ]
    }
   ],
   "source": [
    "for image_batch, labels_batch in train_ds:\n",
    "  print(image_batch.shape)\n",
    "  print(labels_batch.shape)\n",
    "  break"
   ]
  },
  {
   "cell_type": "code",
   "execution_count": 39,
   "id": "46c83f13",
   "metadata": {},
   "outputs": [],
   "source": [
    "inception_v3 = \"https://tfhub.dev/google/imagenet/inception_v3/classification/5\"\n",
    "feature_extractor_model=inception_v3"
   ]
  },
  {
   "cell_type": "code",
   "execution_count": 40,
   "id": "37074625",
   "metadata": {},
   "outputs": [],
   "source": [
    "feature_extractor_layer = hub.KerasLayer(\n",
    "    feature_extractor_model,\n",
    "    input_shape=(229, 229, 3),\n",
    "    trainable=False)"
   ]
  },
  {
   "cell_type": "code",
   "execution_count": 41,
   "id": "a15a9013",
   "metadata": {},
   "outputs": [
    {
     "name": "stdout",
     "output_type": "stream",
     "text": [
      "(32, 1001)\n"
     ]
    }
   ],
   "source": [
    "feature_batch = feature_extractor_layer(image_batch)\n",
    "print(feature_batch.shape)"
   ]
  },
  {
   "cell_type": "code",
   "execution_count": 42,
   "id": "3409b25a",
   "metadata": {},
   "outputs": [
    {
     "name": "stdout",
     "output_type": "stream",
     "text": [
      "Model: \"sequential_3\"\n",
      "_________________________________________________________________\n",
      "Layer (type)                 Output Shape              Param #   \n",
      "=================================================================\n",
      "keras_layer_3 (KerasLayer)   (None, 1001)              23853833  \n",
      "_________________________________________________________________\n",
      "dense_3 (Dense)              (None, 6)                 6012      \n",
      "=================================================================\n",
      "Total params: 23,859,845\n",
      "Trainable params: 6,012\n",
      "Non-trainable params: 23,853,833\n",
      "_________________________________________________________________\n"
     ]
    }
   ],
   "source": [
    "num_classes = len(class_names)\n",
    "\n",
    "model = tf.keras.Sequential([\n",
    "  feature_extractor_layer,\n",
    "  tf.keras.layers.Dense(num_classes)\n",
    "])\n",
    "\n",
    "model.summary()"
   ]
  },
  {
   "cell_type": "code",
   "execution_count": 43,
   "id": "9e958fa3",
   "metadata": {},
   "outputs": [],
   "source": [
    "import datetime\n",
    "model.compile(\n",
    "  optimizer=tf.keras.optimizers.Adam(),\n",
    "  loss=tf.keras.losses.SparseCategoricalCrossentropy(from_logits=True),\n",
    "  metrics=['acc'])\n",
    "\n",
    "log_dir = \"logs/fit/\" + datetime.datetime.now().strftime(\"%Y%m%d-%H%M%S\")\n",
    "tensorboard_callback = tf.keras.callbacks.TensorBoard(\n",
    "    log_dir=log_dir,\n",
    "    histogram_freq=1) # Enable histogram computation for every epoch."
   ]
  },
  {
   "cell_type": "code",
   "execution_count": 44,
   "id": "8bc8ef86",
   "metadata": {},
   "outputs": [
    {
     "name": "stdout",
     "output_type": "stream",
     "text": [
      "Epoch 1/10\n",
      "506/506 [==============================] - 555s 1s/step - loss: 0.7073 - acc: 0.7622 - val_loss: 0.5200 - val_acc: 0.8098\n",
      "Epoch 2/10\n",
      "506/506 [==============================] - 487s 964ms/step - loss: 0.4507 - acc: 0.8397 - val_loss: 0.4562 - val_acc: 0.8370\n",
      "Epoch 3/10\n",
      "506/506 [==============================] - 480s 949ms/step - loss: 0.3988 - acc: 0.8571 - val_loss: 0.4283 - val_acc: 0.8486\n",
      "Epoch 4/10\n",
      "506/506 [==============================] - 482s 952ms/step - loss: 0.3702 - acc: 0.8664 - val_loss: 0.4128 - val_acc: 0.8563\n",
      "Epoch 5/10\n",
      "506/506 [==============================] - 471s 932ms/step - loss: 0.3510 - acc: 0.8736 - val_loss: 0.4031 - val_acc: 0.8578\n",
      "Epoch 6/10\n",
      "506/506 [==============================] - 459s 908ms/step - loss: 0.3366 - acc: 0.8791 - val_loss: 0.3967 - val_acc: 0.8605\n",
      "Epoch 7/10\n",
      "506/506 [==============================] - 459s 907ms/step - loss: 0.3253 - acc: 0.8835 - val_loss: 0.3923 - val_acc: 0.8620\n",
      "Epoch 8/10\n",
      "506/506 [==============================] - 459s 907ms/step - loss: 0.3159 - acc: 0.8869 - val_loss: 0.3894 - val_acc: 0.8647\n",
      "Epoch 9/10\n",
      "506/506 [==============================] - 457s 903ms/step - loss: 0.3079 - acc: 0.8893 - val_loss: 0.3874 - val_acc: 0.8664\n",
      "Epoch 10/10\n",
      "506/506 [==============================] - 460s 910ms/step - loss: 0.3009 - acc: 0.8916 - val_loss: 0.3862 - val_acc: 0.8677\n"
     ]
    }
   ],
   "source": [
    "NUM_EPOCHS = 10\n",
    "\n",
    "history = model.fit(train_ds,\n",
    "                    validation_data=val_ds,\n",
    "                    epochs=NUM_EPOCHS,\n",
    "                    callbacks=tensorboard_callback)"
   ]
  },
  {
   "cell_type": "code",
   "execution_count": 45,
   "id": "bc30a76e",
   "metadata": {},
   "outputs": [
    {
     "data": {
      "text/plain": [
       "Text(0.5, 0, 'epoch')"
      ]
     },
     "execution_count": 45,
     "metadata": {},
     "output_type": "execute_result"
    },
    {
     "data": {
      "image/png": "[encoded data removed]",
      "text/plain": [
       "<Figure size 576x576 with 2 Axes>"
      ]
     },
     "metadata": {
      "needs_background": "light"
     },
     "output_type": "display_data"
    }
   ],
   "source": [
    "acc = history.history['acc']\n",
    "val_acc = history.history['val_acc']\n",
    "\n",
    "loss = history.history['loss']\n",
    "val_loss = history.history['val_loss']\n",
    "\n",
    "plt.figure(figsize=(8, 8))\n",
    "plt.subplot(2, 1, 1)\n",
    "plt.plot(acc, label='Training Accuracy')\n",
    "plt.plot(val_acc, label='Validation Accuracy')\n",
    "plt.legend(loc='lower right')\n",
    "plt.ylabel('Accuracy')\n",
    "plt.ylim([min(plt.ylim()),1])\n",
    "plt.title('Training and Validation Accuracy')\n",
    "\n",
    "plt.subplot(2, 1, 2)\n",
    "plt.plot(loss, label='Training Loss')\n",
    "plt.plot(val_loss, label='Validation Loss')\n",
    "plt.legend(loc='upper right')\n",
    "plt.ylabel('Cross Entropy')\n",
    "plt.ylim([0,1.0])\n",
    "plt.title('Training and Validation Loss')\n",
    "plt.xlabel('epoch')"
   ]
  }
 ],
 "metadata": {
  "kernelspec": {
   "display_name": "Python 3 (ipykernel)",
   "language": "python",
   "name": "python3"
  },
  "language_info": {
   "codemirror_mode": {
    "name": "ipython",
    "version": 3
   },
   "file_extension": ".py",
   "mimetype": "text/x-python",
   "name": "python",
   "nbconvert_exporter": "python",
   "pygments_lexer": "ipython3",
   "version": "3.8.12"
  }
 },
 "nbformat": 4,
 "nbformat_minor": 5
}
